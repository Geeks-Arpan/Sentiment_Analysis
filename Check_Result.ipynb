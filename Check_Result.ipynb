new_review=["Didn't catch the full #GOPdebate last night. Here are some of Scott's best lines in 90 seconds."]
new_review_vec=cv.transform(new_review)
pred_sentiment=classifier.predict(new_review_vec)
print("Predictful sentiment",pred_sentiment)
